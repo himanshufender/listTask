{
 "cells": [
  {
   "cell_type": "markdown",
   "id": "6e688a3a",
   "metadata": {},
   "source": [
    "# S L i c i n g"
   ]
  },
  {
   "cell_type": "markdown",
   "id": "4f907358",
   "metadata": {},
   "source": [
    "Extract a sublist using colon (:) syntax"
   ]
  },
  {
   "cell_type": "code",
   "execution_count": 49,
   "id": "46c7206b",
   "metadata": {},
   "outputs": [
    {
     "name": "stdout",
     "output_type": "stream",
     "text": [
      "['Rose', 'Sunflower', 'Daisy', 'Lily']\n",
      "['Rose', 'Sunflower']\n",
      "['Rose', 'Sunflower', 'Daisy']\n",
      "['Lily', 'Daisy', 'Sunflower', 'Rose']\n"
     ]
    }
   ],
   "source": [
    "Flower = [\"Rose\", \"Sunflower\", \"Daisy\", \"Lily\"]\n",
    "first_two = Flower[0:2]  # first_two will contain [\"rose\", \"sunflower\"]\n",
    "everything_except_last = Flower[:-1]  # everything_except_last will contain [\"rose\", \"sunfloer\", \"daisy\"]\n",
    "flower = Flower[::-1]  #  will contain a reversed copy of the list\n",
    "\n",
    "print(Flower)\n",
    "\n",
    "print(first_two)\n",
    "print(everything_except_last)\n",
    "print(flower)"
   ]
  },
  {
   "cell_type": "markdown",
   "id": "2f7a9596",
   "metadata": {},
   "source": [
    "# append function"
   ]
  },
  {
   "cell_type": "markdown",
   "id": "2f418199",
   "metadata": {},
   "source": [
    "Add an element to the end of list ."
   ]
  },
  {
   "cell_type": "code",
   "execution_count": 4,
   "id": "92f96b9a",
   "metadata": {},
   "outputs": [
    {
     "data": {
      "text/plain": [
       "['Rose', 'Sunflower', 'Daizy', 'Lily']"
      ]
     },
     "execution_count": 4,
     "metadata": {},
     "output_type": "execute_result"
    }
   ],
   "source": [
    "my_list = [\"Rose\", \"Sunflower\", \"Daizy\",\"Lily\"]\n",
    "my_list"
   ]
  },
  {
   "cell_type": "code",
   "execution_count": 5,
   "id": "f0f2baed",
   "metadata": {},
   "outputs": [],
   "source": [
    "my_list.append(\"Marigold\")  # Add \"Marigold\" to the end\n"
   ]
  },
  {
   "cell_type": "code",
   "execution_count": 6,
   "id": "285fe4ff",
   "metadata": {},
   "outputs": [
    {
     "data": {
      "text/plain": [
       "['Rose', 'Sunflower', 'Daizy', 'Lily', 'Marigold']"
      ]
     },
     "execution_count": 6,
     "metadata": {},
     "output_type": "execute_result"
    }
   ],
   "source": [
    "my_list"
   ]
  },
  {
   "cell_type": "markdown",
   "id": "4f57f602",
   "metadata": {},
   "source": [
    "# insert function"
   ]
  },
  {
   "cell_type": "markdown",
   "id": "6e211ad0",
   "metadata": {},
   "source": [
    " Insert an element at a specific index."
   ]
  },
  {
   "cell_type": "code",
   "execution_count": 25,
   "id": "2fcb26e1",
   "metadata": {},
   "outputs": [
    {
     "data": {
      "text/plain": [
       "['Rose', 'Sunflower', 'Daizy', 'Lily']"
      ]
     },
     "execution_count": 25,
     "metadata": {},
     "output_type": "execute_result"
    }
   ],
   "source": [
    "my_list = [\"Rose\", \"Sunflower\", \"Daizy\",\"Lily\"]\n",
    "my_list"
   ]
  },
  {
   "cell_type": "code",
   "execution_count": 26,
   "id": "dc1ad02d",
   "metadata": {},
   "outputs": [],
   "source": [
    "my_list.insert(3, \"Marigold\")  # Insert \"marigold\" at index 1"
   ]
  },
  {
   "cell_type": "code",
   "execution_count": 27,
   "id": "03c4fb06",
   "metadata": {},
   "outputs": [
    {
     "data": {
      "text/plain": [
       "['Rose', 'Sunflower', 'Daizy', 'Marigold', 'Lily']"
      ]
     },
     "execution_count": 27,
     "metadata": {},
     "output_type": "execute_result"
    }
   ],
   "source": [
    "my_list"
   ]
  },
  {
   "cell_type": "markdown",
   "id": "73a14943",
   "metadata": {},
   "source": [
    "# Extend function"
   ]
  },
  {
   "cell_type": "markdown",
   "id": "2010925d",
   "metadata": {},
   "source": [
    "Add all elements from an iterable"
   ]
  },
  {
   "cell_type": "code",
   "execution_count": 28,
   "id": "a4bfc862",
   "metadata": {},
   "outputs": [
    {
     "data": {
      "text/plain": [
       "['Rose', 'Sunflower', 'Daizy', 'Lily']"
      ]
     },
     "execution_count": 28,
     "metadata": {},
     "output_type": "execute_result"
    }
   ],
   "source": [
    "my_list = [\"Rose\", \"Sunflower\", \"Daizy\",\"Lily\"]\n",
    "my_list"
   ]
  },
  {
   "cell_type": "code",
   "execution_count": 29,
   "id": "6ad9455c",
   "metadata": {},
   "outputs": [],
   "source": [
    "my_list.extend([\"Blackrose\", \"Bluerose\"])  # Add all elements from a list\n"
   ]
  },
  {
   "cell_type": "code",
   "execution_count": 30,
   "id": "aa7a8ba3",
   "metadata": {},
   "outputs": [
    {
     "data": {
      "text/plain": [
       "['Rose', 'Sunflower', 'Daizy', 'Lily', 'Blackrose', 'Bluerose']"
      ]
     },
     "execution_count": 30,
     "metadata": {},
     "output_type": "execute_result"
    }
   ],
   "source": [
    "my_list"
   ]
  },
  {
   "cell_type": "markdown",
   "id": "70203082",
   "metadata": {},
   "source": [
    "# remove function"
   ]
  },
  {
   "cell_type": "markdown",
   "id": "ed9b62c5",
   "metadata": {},
   "source": [
    "The remove function method removes a given element from the list.\n"
   ]
  },
  {
   "cell_type": "code",
   "execution_count": 31,
   "id": "26a10a23",
   "metadata": {},
   "outputs": [
    {
     "data": {
      "text/plain": [
       "['Rose', 'Sunflower', 'Daizy', 'Lily']"
      ]
     },
     "execution_count": 31,
     "metadata": {},
     "output_type": "execute_result"
    }
   ],
   "source": [
    "my_list = [\"Rose\", \"Sunflower\", \"Daizy\",\"Lily\"]\n",
    "my_list"
   ]
  },
  {
   "cell_type": "code",
   "execution_count": 32,
   "id": "ca349527",
   "metadata": {},
   "outputs": [],
   "source": [
    "my_list.remove(\"Daizy\")  # Remove the  \"\""
   ]
  },
  {
   "cell_type": "code",
   "execution_count": 33,
   "id": "53e21af5",
   "metadata": {},
   "outputs": [
    {
     "data": {
      "text/plain": [
       "['Rose', 'Sunflower', 'Lily']"
      ]
     },
     "execution_count": 33,
     "metadata": {},
     "output_type": "execute_result"
    }
   ],
   "source": [
    "my_list"
   ]
  },
  {
   "cell_type": "markdown",
   "id": "69bdf66e",
   "metadata": {},
   "source": [
    "# pop function"
   ]
  },
  {
   "cell_type": "markdown",
   "id": "86024d61",
   "metadata": {},
   "source": [
    "Pop function removes element at a specific index from the list."
   ]
  },
  {
   "cell_type": "code",
   "execution_count": 34,
   "id": "96d0b1e9",
   "metadata": {},
   "outputs": [
    {
     "data": {
      "text/plain": [
       "['Rose', 'Sunflower', 'Daizy', 'Lily']"
      ]
     },
     "execution_count": 34,
     "metadata": {},
     "output_type": "execute_result"
    }
   ],
   "source": [
    "my_list = [\"Rose\", \"Sunflower\", \"Daizy\",\"Lily\"]\n",
    "my_list"
   ]
  },
  {
   "cell_type": "code",
   "execution_count": 35,
   "id": "c7f86ce8",
   "metadata": {},
   "outputs": [],
   "source": [
    "remove_flower = my_list.pop(2)  # Remove and return the element at index 2\n"
   ]
  },
  {
   "cell_type": "code",
   "execution_count": 36,
   "id": "6d52bc28",
   "metadata": {},
   "outputs": [
    {
     "data": {
      "text/plain": [
       "['Rose', 'Sunflower', 'Lily']"
      ]
     },
     "execution_count": 36,
     "metadata": {},
     "output_type": "execute_result"
    }
   ],
   "source": [
    "my_list"
   ]
  },
  {
   "cell_type": "markdown",
   "id": "cee72b92",
   "metadata": {},
   "source": [
    "# clear function"
   ]
  },
  {
   "cell_type": "markdown",
   "id": "70f0b277",
   "metadata": {},
   "source": [
    "Clear function method removes all items from the list making it an empty list."
   ]
  },
  {
   "cell_type": "code",
   "execution_count": 37,
   "id": "274511fb",
   "metadata": {},
   "outputs": [
    {
     "data": {
      "text/plain": [
       "['Rose', 'Sunflower', 'Daizy', 'Lily']"
      ]
     },
     "execution_count": 37,
     "metadata": {},
     "output_type": "execute_result"
    }
   ],
   "source": [
    "my_list = [\"Rose\", \"Sunflower\", \"Daizy\",\"Lily\"]\n",
    "my_list"
   ]
  },
  {
   "cell_type": "code",
   "execution_count": 38,
   "id": "54504c7c",
   "metadata": {},
   "outputs": [],
   "source": [
    "my_list.clear()"
   ]
  },
  {
   "cell_type": "code",
   "execution_count": 39,
   "id": "e3d5c965",
   "metadata": {},
   "outputs": [
    {
     "data": {
      "text/plain": [
       "[]"
      ]
     },
     "execution_count": 39,
     "metadata": {},
     "output_type": "execute_result"
    }
   ],
   "source": [
    "my_list"
   ]
  },
  {
   "cell_type": "markdown",
   "id": "745722a6",
   "metadata": {},
   "source": [
    "# count function"
   ]
  },
  {
   "cell_type": "markdown",
   "id": "6ab539e0",
   "metadata": {},
   "source": [
    "This function method returns the count of the occurrences of a given element in a list."
   ]
  },
  {
   "cell_type": "code",
   "execution_count": 43,
   "id": "4f7e4f3a",
   "metadata": {},
   "outputs": [
    {
     "data": {
      "text/plain": [
       "['Rose', 'Sunflower', 'Daizy', 'Lily', 'Rose', 'Sunflower']"
      ]
     },
     "execution_count": 43,
     "metadata": {},
     "output_type": "execute_result"
    }
   ],
   "source": [
    "my_list = [\"Rose\", \"Sunflower\", \"Daizy\",\"Lily\",\"Rose\", \"Sunflower\"]\n",
    "my_list"
   ]
  },
  {
   "cell_type": "code",
   "execution_count": 44,
   "id": "1531541b",
   "metadata": {},
   "outputs": [
    {
     "data": {
      "text/plain": [
       "2"
      ]
     },
     "execution_count": 44,
     "metadata": {},
     "output_type": "execute_result"
    }
   ],
   "source": [
    "my_list.count(\"Rose\")"
   ]
  },
  {
   "cell_type": "code",
   "execution_count": 45,
   "id": "80b4c7f9",
   "metadata": {},
   "outputs": [
    {
     "data": {
      "text/plain": [
       "2"
      ]
     },
     "execution_count": 45,
     "metadata": {},
     "output_type": "execute_result"
    }
   ],
   "source": [
    "my_list.count(\"Sunflower\")"
   ]
  },
  {
   "cell_type": "markdown",
   "id": "b7b10668",
   "metadata": {},
   "source": [
    "# sort function"
   ]
  },
  {
   "cell_type": "markdown",
   "id": "97a54a98",
   "metadata": {},
   "source": [
    "Sort the list in ascending order (in-place)"
   ]
  },
  {
   "cell_type": "code",
   "execution_count": 46,
   "id": "157f75f3",
   "metadata": {},
   "outputs": [
    {
     "data": {
      "text/plain": [
       "['Rose', 'Sunflower', 'Daizy', 'Lily']"
      ]
     },
     "execution_count": 46,
     "metadata": {},
     "output_type": "execute_result"
    }
   ],
   "source": [
    "my_list = [\"Rose\", \"Sunflower\", \"Daizy\",\"Lily\"]\n",
    "my_list"
   ]
  },
  {
   "cell_type": "code",
   "execution_count": 47,
   "id": "f799bbb6",
   "metadata": {},
   "outputs": [],
   "source": [
    "my_list.sort()  # Sort in ascending order (in-place)"
   ]
  },
  {
   "cell_type": "code",
   "execution_count": 48,
   "id": "56b11a42",
   "metadata": {},
   "outputs": [
    {
     "data": {
      "text/plain": [
       "['Daizy', 'Lily', 'Rose', 'Sunflower']"
      ]
     },
     "execution_count": 48,
     "metadata": {},
     "output_type": "execute_result"
    }
   ],
   "source": [
    "my_list"
   ]
  },
  {
   "cell_type": "code",
   "execution_count": 28,
   "id": "79a0732c",
   "metadata": {},
   "outputs": [
    {
     "data": {
      "text/plain": [
       "[20, 15, 45, 25, 7, 9, 18, 23, 11, 12, 5, 35]"
      ]
     },
     "execution_count": 28,
     "metadata": {},
     "output_type": "execute_result"
    }
   ],
   "source": [
    "num = [20,15,45,25,7,9,18,23,11,12,5,35,]\n",
    "num"
   ]
  },
  {
   "cell_type": "code",
   "execution_count": 29,
   "id": "294c9458",
   "metadata": {},
   "outputs": [],
   "source": [
    "num.sort()"
   ]
  },
  {
   "cell_type": "code",
   "execution_count": 30,
   "id": "a32647ca",
   "metadata": {},
   "outputs": [
    {
     "data": {
      "text/plain": [
       "[5, 7, 9, 11, 12, 15, 18, 20, 23, 25, 35, 45]"
      ]
     },
     "execution_count": 30,
     "metadata": {},
     "output_type": "execute_result"
    }
   ],
   "source": [
    "num"
   ]
  },
  {
   "cell_type": "markdown",
   "id": "c1742adb",
   "metadata": {},
   "source": [
    "# reverse function"
   ]
  },
  {
   "cell_type": "markdown",
   "id": "bee217c7",
   "metadata": {},
   "source": [
    "Reverse the order of elements"
   ]
  },
  {
   "cell_type": "code",
   "execution_count": 31,
   "id": "7a1c728a",
   "metadata": {},
   "outputs": [
    {
     "data": {
      "text/plain": [
       "[20, 15, 45, 25, 7, 9, 18, 23, 11, 12, 5, 35]"
      ]
     },
     "execution_count": 31,
     "metadata": {},
     "output_type": "execute_result"
    }
   ],
   "source": [
    "num = [20,15,45,25,7,9,18,23,11,12,5,35,]\n",
    "num"
   ]
  },
  {
   "cell_type": "code",
   "execution_count": 32,
   "id": "57cd2118",
   "metadata": {},
   "outputs": [],
   "source": [
    "num.reverse()  # Reverse the order "
   ]
  },
  {
   "cell_type": "code",
   "execution_count": 33,
   "id": "b0cc7f64",
   "metadata": {},
   "outputs": [
    {
     "data": {
      "text/plain": [
       "[35, 5, 12, 11, 23, 18, 9, 7, 25, 45, 15, 20]"
      ]
     },
     "execution_count": 33,
     "metadata": {},
     "output_type": "execute_result"
    }
   ],
   "source": [
    "num"
   ]
  },
  {
   "cell_type": "markdown",
   "id": "b1590ea2",
   "metadata": {},
   "source": [
    "# min function\n"
   ]
  },
  {
   "cell_type": "markdown",
   "id": "b936e5a1",
   "metadata": {},
   "source": [
    "Min function returns the smallest element."
   ]
  },
  {
   "cell_type": "code",
   "execution_count": 34,
   "id": "aa250953",
   "metadata": {},
   "outputs": [
    {
     "data": {
      "text/plain": [
       "[20, 15, 45, 25, 7, 9, 18, 23, 11, 12, 5, 35]"
      ]
     },
     "execution_count": 34,
     "metadata": {},
     "output_type": "execute_result"
    }
   ],
   "source": [
    "num = [20,15,45,25,7,9,18,23,11,12,5,35,]\n",
    "num"
   ]
  },
  {
   "cell_type": "code",
   "execution_count": 35,
   "id": "c7772135",
   "metadata": {},
   "outputs": [
    {
     "data": {
      "text/plain": [
       "5"
      ]
     },
     "execution_count": 35,
     "metadata": {},
     "output_type": "execute_result"
    }
   ],
   "source": [
    "min(num)"
   ]
  },
  {
   "cell_type": "markdown",
   "id": "4b2c45de",
   "metadata": {},
   "source": [
    "# max function"
   ]
  },
  {
   "cell_type": "markdown",
   "id": "b5d9ad77",
   "metadata": {},
   "source": [
    "Max function return the largest element."
   ]
  },
  {
   "cell_type": "code",
   "execution_count": 36,
   "id": "70287aa9",
   "metadata": {},
   "outputs": [
    {
     "data": {
      "text/plain": [
       "[20, 15, 45, 25, 7, 9, 18, 23, 11, 12, 5, 35]"
      ]
     },
     "execution_count": 36,
     "metadata": {},
     "output_type": "execute_result"
    }
   ],
   "source": [
    "num = [20,15,45,25,7,9,18,23,11,12,5,35,]\n",
    "num"
   ]
  },
  {
   "cell_type": "code",
   "execution_count": 38,
   "id": "b6668512",
   "metadata": {},
   "outputs": [
    {
     "data": {
      "text/plain": [
       "45"
      ]
     },
     "execution_count": 38,
     "metadata": {},
     "output_type": "execute_result"
    }
   ],
   "source": [
    "max(num)"
   ]
  },
  {
   "cell_type": "code",
   "execution_count": null,
   "id": "6c27da28",
   "metadata": {},
   "outputs": [],
   "source": []
  }
 ],
 "metadata": {
  "kernelspec": {
   "display_name": "Python 3 (ipykernel)",
   "language": "python",
   "name": "python3"
  },
  "language_info": {
   "codemirror_mode": {
    "name": "ipython",
    "version": 3
   },
   "file_extension": ".py",
   "mimetype": "text/x-python",
   "name": "python",
   "nbconvert_exporter": "python",
   "pygments_lexer": "ipython3",
   "version": "3.11.1"
  }
 },
 "nbformat": 4,
 "nbformat_minor": 5
}
