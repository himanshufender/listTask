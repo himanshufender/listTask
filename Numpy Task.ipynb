{
 "cells": [
  {
   "cell_type": "code",
   "execution_count": 1,
   "id": "6acaa499-d37c-48bd-a717-9ca47d5afa2b",
   "metadata": {},
   "outputs": [],
   "source": [
    "import numpy as np"
   ]
  },
  {
   "cell_type": "markdown",
   "id": "6e1a2115-d8c1-4631-8e24-76244465c0ba",
   "metadata": {},
   "source": [
    "Numpy is Numerical Python.  \n",
    "It is a library consisting of multidimensional array objects and a collection of routines for processing of array."
   ]
  },
  {
   "cell_type": "markdown",
   "id": "6c263ede",
   "metadata": {},
   "source": [
    "# Numpy Functions"
   ]
  },
  {
   "cell_type": "code",
   "execution_count": 2,
   "id": "a7f8bf81-fefb-4695-ad27-1027b483c485",
   "metadata": {},
   "outputs": [
    {
     "data": {
      "text/plain": [
       "array([[1, 2, 3, 4],\n",
       "       [5, 6, 7, 8]])"
      ]
     },
     "execution_count": 2,
     "metadata": {},
     "output_type": "execute_result"
    }
   ],
   "source": [
    "array1 = np.array([[1,2,3,4],[5,6,7,8]])\n",
    "array1"
   ]
  },
  {
   "cell_type": "markdown",
   "id": "94cff88c",
   "metadata": {},
   "source": [
    "# np.zeros"
   ]
  },
  {
   "cell_type": "code",
   "execution_count": 3,
   "id": "8f4489c2-d10e-43ee-b8cb-67f13232a1a8",
   "metadata": {},
   "outputs": [
    {
     "data": {
      "text/plain": [
       "array([[0, 0, 0],\n",
       "       [0, 0, 0],\n",
       "       [0, 0, 0],\n",
       "       [0, 0, 0]])"
      ]
     },
     "execution_count": 3,
     "metadata": {},
     "output_type": "execute_result"
    }
   ],
   "source": [
    "\n",
    "array2 = np.zeros((4,3) , dtype=int)   # Default dtype = float\n",
    "array2"
   ]
  },
  {
   "cell_type": "markdown",
   "id": "0dc930cd",
   "metadata": {},
   "source": [
    "# np.ones"
   ]
  },
  {
   "cell_type": "code",
   "execution_count": 4,
   "id": "17c42b6e-f5a0-4a9a-9751-0b9f2f22cee8",
   "metadata": {},
   "outputs": [
    {
     "data": {
      "text/plain": [
       "array([[1, 1, 1],\n",
       "       [1, 1, 1]])"
      ]
     },
     "execution_count": 4,
     "metadata": {},
     "output_type": "execute_result"
    }
   ],
   "source": [
    "\n",
    "array3 = np.ones((2,3) , dtype=int)\n",
    "array3"
   ]
  },
  {
   "cell_type": "markdown",
   "id": "8eb0e7a5",
   "metadata": {},
   "source": [
    "#  np.arange"
   ]
  },
  {
   "cell_type": "code",
   "execution_count": 5,
   "id": "3adf5df8-b67a-47f5-a130-d882c49b678b",
   "metadata": {},
   "outputs": [
    {
     "data": {
      "text/plain": [
       "array([ 6,  8, 10, 12, 14, 16, 18])"
      ]
     },
     "execution_count": 5,
     "metadata": {},
     "output_type": "execute_result"
    }
   ],
   "source": [
    "\n",
    "array4 = np.arange(6,20,2)\n",
    "array4"
   ]
  },
  {
   "cell_type": "markdown",
   "id": "77eaeddd",
   "metadata": {},
   "source": [
    "# random"
   ]
  },
  {
   "cell_type": "code",
   "execution_count": 6,
   "id": "153a7e12-f875-4074-be5e-279e447d90d3",
   "metadata": {},
   "outputs": [
    {
     "name": "stdout",
     "output_type": "stream",
     "text": [
      "[[ 1  6  9 12]\n",
      " [ 8 23 21  7]\n",
      " [23 20 24  6]]\n"
     ]
    }
   ],
   "source": [
    "array6 = np.random.randint(0,25,size=(3,4))\n",
    "print(array6)"
   ]
  },
  {
   "cell_type": "markdown",
   "id": "60803cb8",
   "metadata": {},
   "source": [
    "# np.full"
   ]
  },
  {
   "cell_type": "code",
   "execution_count": 7,
   "id": "6f7234be-5e8f-41f8-b597-c918c49d6b8d",
   "metadata": {},
   "outputs": [
    {
     "name": "stdout",
     "output_type": "stream",
     "text": [
      "[[[5 5]\n",
      "  [5 5]]\n",
      "\n",
      " [[5 5]\n",
      "  [5 5]]\n",
      "\n",
      " [[5 5]\n",
      "  [5 5]]]\n"
     ]
    }
   ],
   "source": [
    "array7 = np.full((3,2,2),5)\n",
    "print(array7)"
   ]
  },
  {
   "cell_type": "code",
   "execution_count": 8,
   "id": "9bc4c519-919d-42fd-acd9-1abacc87853c",
   "metadata": {},
   "outputs": [
    {
     "data": {
      "text/plain": [
       "array([[4, 3, 4, 2],\n",
       "       [2, 4, 3, 3]])"
      ]
     },
     "execution_count": 8,
     "metadata": {},
     "output_type": "execute_result"
    }
   ],
   "source": [
    "a = np.random.randint(1,5,(2,4))\n",
    "a"
   ]
  },
  {
   "cell_type": "code",
   "execution_count": 9,
   "id": "2861a67e-5e52-4e99-a5a9-ab9027e955a7",
   "metadata": {},
   "outputs": [
    {
     "data": {
      "text/plain": [
       "array([[8, 6, 9, 8],\n",
       "       [5, 5, 6, 8]])"
      ]
     },
     "execution_count": 9,
     "metadata": {},
     "output_type": "execute_result"
    }
   ],
   "source": [
    "b = np.random.randint(5,10,(2,4))\n",
    "b"
   ]
  },
  {
   "cell_type": "markdown",
   "id": "bedd51b9",
   "metadata": {},
   "source": [
    "# divide"
   ]
  },
  {
   "cell_type": "code",
   "execution_count": 10,
   "id": "1ea44004-d9dd-4aa5-820d-b8131f666b3c",
   "metadata": {},
   "outputs": [
    {
     "data": {
      "text/plain": [
       "5.0"
      ]
     },
     "execution_count": 10,
     "metadata": {},
     "output_type": "execute_result"
    }
   ],
   "source": [
    "divide = np.divide(10,2)\n",
    "divide"
   ]
  },
  {
   "cell_type": "markdown",
   "id": "c05f9790",
   "metadata": {},
   "source": [
    "# multiplication"
   ]
  },
  {
   "cell_type": "code",
   "execution_count": 11,
   "id": "4309144e-afbe-4089-9f15-31b59861c17e",
   "metadata": {},
   "outputs": [
    {
     "data": {
      "text/plain": [
       "37200"
      ]
     },
     "execution_count": 11,
     "metadata": {},
     "output_type": "execute_result"
    }
   ],
   "source": [
    "multiply = np.multiply(186, 200)\n",
    "multiply"
   ]
  },
  {
   "cell_type": "markdown",
   "id": "e325e2fb-2d7b-404c-a1cc-8fd950f82564",
   "metadata": {},
   "source": [
    "## Aggregation Operations"
   ]
  },
  {
   "cell_type": "code",
   "execution_count": 12,
   "id": "61206c8f-1983-4f6b-9237-f2340634a61d",
   "metadata": {},
   "outputs": [
    {
     "data": {
      "text/plain": [
       "array([[9, 6, 4, 5],\n",
       "       [4, 4, 7, 9]])"
      ]
     },
     "execution_count": 12,
     "metadata": {},
     "output_type": "execute_result"
    }
   ],
   "source": [
    "data = np.random.randint(1,10,(2,4))\n",
    "data"
   ]
  },
  {
   "cell_type": "markdown",
   "id": "8c23a627",
   "metadata": {},
   "source": [
    "# add"
   ]
  },
  {
   "cell_type": "code",
   "execution_count": 13,
   "id": "5c092fbe",
   "metadata": {},
   "outputs": [],
   "source": [
    "a = np.array([1, 2, 3])\n",
    "b = np.array([4, 5, 6])\n",
    "c = np.add(a, b)"
   ]
  },
  {
   "cell_type": "code",
   "execution_count": 14,
   "id": "1d504f58",
   "metadata": {},
   "outputs": [
    {
     "data": {
      "text/plain": [
       "array([5, 7, 9])"
      ]
     },
     "execution_count": 14,
     "metadata": {},
     "output_type": "execute_result"
    }
   ],
   "source": [
    "c"
   ]
  },
  {
   "cell_type": "markdown",
   "id": "f4c1c82f",
   "metadata": {},
   "source": [
    "# subtract"
   ]
  },
  {
   "cell_type": "code",
   "execution_count": 15,
   "id": "876921ec",
   "metadata": {},
   "outputs": [],
   "source": [
    "a = np.array([1, 2, 3])\n",
    "b = np.array([4, 5, 6])\n",
    "c = np.subtract(a, b)"
   ]
  },
  {
   "cell_type": "code",
   "execution_count": 16,
   "id": "4c604df2",
   "metadata": {},
   "outputs": [
    {
     "data": {
      "text/plain": [
       "array([-3, -3, -3])"
      ]
     },
     "execution_count": 16,
     "metadata": {},
     "output_type": "execute_result"
    }
   ],
   "source": [
    "c"
   ]
  },
  {
   "cell_type": "markdown",
   "id": "84db253b-a012-4319-9b47-4a2366b38c11",
   "metadata": {},
   "source": [
    "# Numpy array attributes"
   ]
  },
  {
   "cell_type": "markdown",
   "id": "2713ac5c-809a-48b5-a0f7-1d0b032c958b",
   "metadata": {},
   "source": [
    "#### ndarray.shape\n",
    "* This returns a tuple consisting of array dimensions."
   ]
  },
  {
   "cell_type": "code",
   "execution_count": 17,
   "id": "c212ca76-1634-4c4d-8f82-4cbb45b50a8e",
   "metadata": {},
   "outputs": [
    {
     "name": "stdout",
     "output_type": "stream",
     "text": [
      "(2, 3)\n"
     ]
    }
   ],
   "source": [
    "array_1 = np.array([[1,2,3],[4,5,6]])\n",
    "print(array_1.shape)"
   ]
  },
  {
   "cell_type": "code",
   "execution_count": 18,
   "id": "fe4869b4-22e1-446b-bcac-c2450b746968",
   "metadata": {},
   "outputs": [
    {
     "name": "stdout",
     "output_type": "stream",
     "text": [
      "(4, 2, 3)\n"
     ]
    }
   ],
   "source": [
    "array_2 = np.array([[[1,2,3],[4,5,6]],\n",
    "                       [[1,2,3],[4,5,6]],\n",
    "                       [[1,2,3],[4,5,6]],\n",
    "                       [[1,2,3],[4,5,6]]])\n",
    "print(array_2.shape)"
   ]
  },
  {
   "cell_type": "markdown",
   "id": "21dd1e4e-ca9a-4354-bd34-73aed1c86dcf",
   "metadata": {},
   "source": [
    "#### ndarray.ndim\n",
    "* This returns the number of array dimensions."
   ]
  },
  {
   "cell_type": "code",
   "execution_count": 19,
   "id": "929e4e3f-9e44-4d57-a9f3-061b15cd8327",
   "metadata": {},
   "outputs": [
    {
     "name": "stdout",
     "output_type": "stream",
     "text": [
      "The dimension of array_3:  2\n"
     ]
    }
   ],
   "source": [
    "array_3 = np.array([[1,2,3],[4,5,6]])\n",
    "print(f\"The dimension of array_3: \",array_3.ndim)"
   ]
  },
  {
   "cell_type": "markdown",
   "id": "dde0bc69-00fb-46f8-b6ca-98b358070660",
   "metadata": {},
   "source": [
    "#### ndarray.size\n",
    "* This returns the total number of elements in the array"
   ]
  },
  {
   "cell_type": "code",
   "execution_count": 20,
   "id": "be113178-635d-4820-955d-e88ce187441d",
   "metadata": {},
   "outputs": [
    {
     "name": "stdout",
     "output_type": "stream",
     "text": [
      "The total number of elements in array_4 =  6\n"
     ]
    }
   ],
   "source": [
    "array_4 = np.array([[1,2,3],[4,5,6]])\n",
    "print(f\"The total number of elements in array_4 =  {array_4.size}\")"
   ]
  },
  {
   "cell_type": "markdown",
   "id": "ab91cbb8-91ee-4840-b9df-a76df218d718",
   "metadata": {},
   "source": [
    "#### ndarray.dtype\n",
    "* This returns the data type of the array\n"
   ]
  },
  {
   "cell_type": "code",
   "execution_count": 21,
   "id": "d04e2214-7247-4ccf-9053-a6a8de02327a",
   "metadata": {},
   "outputs": [
    {
     "name": "stdout",
     "output_type": "stream",
     "text": [
      "int32\n"
     ]
    }
   ],
   "source": [
    "array_5 = np.array([1,2,3,4,5])\n",
    "print(array_5.dtype)"
   ]
  },
  {
   "cell_type": "code",
   "execution_count": 22,
   "id": "b863d04a-69e2-4b86-9df2-f35932067613",
   "metadata": {},
   "outputs": [
    {
     "name": "stdout",
     "output_type": "stream",
     "text": [
      "float64\n"
     ]
    }
   ],
   "source": [
    "array_6 = np.array([1,2,3,4,5,5.678,-6])\n",
    "print(array_6.dtype)"
   ]
  },
  {
   "cell_type": "markdown",
   "id": "47725d8f-a8ac-42dc-bddc-84c7407c3e16",
   "metadata": {},
   "source": [
    "#### ndarray.astype\n",
    "* This changes the data type of an array."
   ]
  },
  {
   "cell_type": "code",
   "execution_count": 23,
   "id": "2288790c-552c-4a13-b209-096242970541",
   "metadata": {},
   "outputs": [
    {
     "name": "stdout",
     "output_type": "stream",
     "text": [
      "int32\n",
      "[2 3 4]\n",
      "float64\n",
      "[2. 3. 4.]\n"
     ]
    }
   ],
   "source": [
    "array_7 = np.array([2,3,4])\n",
    "print(array_7.dtype)\n",
    "print(array_7)\n",
    "array_7_ = array_7.astype('float64')\n",
    "print(array_7_.dtype)\n",
    "print(array_7_)"
   ]
  },
  {
   "cell_type": "markdown",
   "id": "5ee05d25-24da-4794-b0c8-0e04e270fdf1",
   "metadata": {},
   "source": [
    "## Array Manipulation"
   ]
  },
  {
   "cell_type": "markdown",
   "id": "ebfab0ff-ea54-478d-93f7-0796ed42914d",
   "metadata": {},
   "source": [
    "#### np.transpose(array)"
   ]
  },
  {
   "cell_type": "code",
   "execution_count": 24,
   "id": "7dcdc120-5748-436b-a6c0-50bc2b599161",
   "metadata": {},
   "outputs": [
    {
     "data": {
      "text/plain": [
       "array([[2, 5],\n",
       "       [1, 1],\n",
       "       [1, 1],\n",
       "       [2, 2],\n",
       "       [2, 2],\n",
       "       [3, 1]])"
      ]
     },
     "execution_count": 24,
     "metadata": {},
     "output_type": "execute_result"
    }
   ],
   "source": [
    "array_8 = np.array(np.random.randint(1,6,(6,2)))\n",
    "array_8"
   ]
  },
  {
   "cell_type": "code",
   "execution_count": 25,
   "id": "a4ab3d9e-aab3-4edf-8d75-3d2264e5c009",
   "metadata": {},
   "outputs": [
    {
     "data": {
      "text/plain": [
       "array([[2, 1, 1, 2, 2, 3],\n",
       "       [5, 1, 1, 2, 2, 1]])"
      ]
     },
     "execution_count": 25,
     "metadata": {},
     "output_type": "execute_result"
    }
   ],
   "source": [
    "transpose_arr = np.transpose(array_8)\n",
    "transpose_arr"
   ]
  }
 ],
 "metadata": {
  "kernelspec": {
   "display_name": "Python 3 (ipykernel)",
   "language": "python",
   "name": "python3"
  },
  "language_info": {
   "codemirror_mode": {
    "name": "ipython",
    "version": 3
   },
   "file_extension": ".py",
   "mimetype": "text/x-python",
   "name": "python",
   "nbconvert_exporter": "python",
   "pygments_lexer": "ipython3",
   "version": "3.11.1"
  }
 },
 "nbformat": 4,
 "nbformat_minor": 5
}
